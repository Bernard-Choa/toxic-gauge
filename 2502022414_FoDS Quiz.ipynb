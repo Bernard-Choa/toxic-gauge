{
 "cells": [
  {
   "cell_type": "code",
   "execution_count": 10,
   "id": "6ff003b0",
   "metadata": {},
   "outputs": [
    {
     "name": "stdout",
     "output_type": "stream",
     "text": [
      "None\n"
     ]
    }
   ],
   "source": [
    "from bs4 import BeautifulSoup\n",
    "import requests\n",
    "import re\n",
    "import pandas as pd\n",
    "url = \"https://catalog.data.gov/dataset?q=&sort=metadata_created+desc\"\n",
    "response = requests.get(url)\n",
    "soup = BeautifulSoup(response.text, \"html\")\n",
    "print(soup.get('h3'))"
   ]
  },
  {
   "cell_type": "code",
   "execution_count": null,
   "id": "4073c9a0",
   "metadata": {},
   "outputs": [],
   "source": []
  }
 ],
 "metadata": {
  "kernelspec": {
   "display_name": "Python 3 (ipykernel)",
   "language": "python",
   "name": "python3"
  },
  "language_info": {
   "codemirror_mode": {
    "name": "ipython",
    "version": 3
   },
   "file_extension": ".py",
   "mimetype": "text/x-python",
   "name": "python",
   "nbconvert_exporter": "python",
   "pygments_lexer": "ipython3",
   "version": "3.9.12"
  }
 },
 "nbformat": 4,
 "nbformat_minor": 5
}
